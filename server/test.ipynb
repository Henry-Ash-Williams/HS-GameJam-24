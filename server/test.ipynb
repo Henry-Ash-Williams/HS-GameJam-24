{
 "cells": [
  {
   "cell_type": "markdown",
   "metadata": {},
   "source": [
    "# Old, this wont work "
   ]
  },
  {
   "cell_type": "code",
   "execution_count": 18,
   "metadata": {},
   "outputs": [],
   "source": [
    "import matplotlib.pyplot as plt\n",
    "from alien import Alien\n",
    "import textwrap\n",
    "\n",
    "a = Alien()"
   ]
  },
  {
   "cell_type": "code",
   "execution_count": 19,
   "metadata": {},
   "outputs": [
    {
     "name": "stdout",
     "output_type": "stream",
     "text": [
      "{\"let_in\": false, \"image_url\": null, \"description\": \"Belthorax is a tall, slender creature with iridescent blue skin, three eyes that shimmer with violet hues, and elongated fingers. Its head is adorned with small, feather-like appendages, and it wears a tattered metallic cloak.\", \"name\": \"Belthorax\", \"species\": \"Xyloxian\", \"items\": [\"synthesized party drugs\", \"glowing wrist restraints\", \"bio-luminescent ornaments\", \"neural interface device\"], \"demeanor\": \"Belthorax appears anxious, fidgeting with its cloak while occasionally looking around nervously, trying to gauge the mood of the crowd.\", \"alien_id\": \"svylgEwKxeRSfEmoAHfcRCtkKfgtDRmM\"}\n"
     ]
    }
   ],
   "source": [
    "print(a)"
   ]
  },
  {
   "cell_type": "code",
   "execution_count": null,
   "metadata": {},
   "outputs": [
    {
     "ename": "AttributeError",
     "evalue": "'Alien' object has no attribute 'image'",
     "output_type": "error",
     "traceback": [
      "\u001b[0;31m---------------------------------------------------------------------------\u001b[0m",
      "\u001b[0;31mAttributeError\u001b[0m                            Traceback (most recent call last)",
      "Cell \u001b[0;32mIn[20], line 14\u001b[0m\n\u001b[1;32m     11\u001b[0m original_fig_height \u001b[38;5;241m=\u001b[39m fig\u001b[38;5;241m.\u001b[39mget_figheight()\n\u001b[1;32m     12\u001b[0m fig\u001b[38;5;241m.\u001b[39mset_figheight(original_fig_height \u001b[38;5;241m+\u001b[39m text_height_in_inches)\n\u001b[0;32m---> 14\u001b[0m plt\u001b[38;5;241m.\u001b[39mimshow(\u001b[43ma\u001b[49m\u001b[38;5;241;43m.\u001b[39;49m\u001b[43mimage\u001b[49m)\n\u001b[1;32m     15\u001b[0m plt\u001b[38;5;241m.\u001b[39mtitle(a\u001b[38;5;241m.\u001b[39mname)\n\u001b[1;32m     17\u001b[0m plt\u001b[38;5;241m.\u001b[39msubplots_adjust(\n\u001b[1;32m     18\u001b[0m     bottom\u001b[38;5;241m=\u001b[39mtext_height_in_inches \u001b[38;5;241m/\u001b[39m (original_fig_height \u001b[38;5;241m+\u001b[39m text_height_in_inches \u001b[38;5;241m-\u001b[39m \u001b[38;5;241m1\u001b[39m)\n\u001b[1;32m     19\u001b[0m )\n",
      "\u001b[0;31mAttributeError\u001b[0m: 'Alien' object has no attribute 'image'"
     ]
    },
    {
     "data": {
      "text/plain": [
       "<Figure size 960x824.167 with 0 Axes>"
      ]
     },
     "metadata": {},
     "output_type": "display_data"
    }
   ],
   "source": [
    "image = a.generate_art()\n",
    "\n",
    "wrap_width = 50\n",
    "wrapped_description = textwrap.fill(a.description, wrap_width)\n",
    "\n",
    "font_size = 10\n",
    "line_height = font_size / 72\n",
    "num_lines = wrapped_description.count(\"\\n\") + 1\n",
    "text_height_in_inches = num_lines * line_height\n",
    "\n",
    "fig = plt.figure(dpi=150)\n",
    "\n",
    "original_fig_height = fig.get_figheight()\n",
    "fig.set_figheight(original_fig_height + text_height_in_inches)\n",
    "\n",
    "plt.imshow(image)\n",
    "plt.title(a.name)\n",
    "\n",
    "plt.subplots_adjust(\n",
    "    bottom=text_height_in_inches / (original_fig_height + text_height_in_inches - 1)\n",
    ")\n",
    "\n",
    "fig.text(\n",
    "    0.5,\n",
    "    0.001,\n",
    "    wrapped_description,\n",
    "    fontsize=font_size,\n",
    "    ha=\"center\",\n",
    "    va=\"bottom\",\n",
    ")\n",
    "\n",
    "plt.xticks([])\n",
    "plt.yticks([])\n",
    "plt.show()\n"
   ]
  },
  {
   "cell_type": "code",
   "execution_count": null,
   "metadata": {},
   "outputs": [],
   "source": [
    "aliens = [Alien(let_in=False)] + [Alien() for i in range(2)]"
   ]
  },
  {
   "cell_type": "code",
   "execution_count": null,
   "metadata": {},
   "outputs": [],
   "source": [
    "import os\n",
    "from openai import OpenAI\n",
    "\n",
    "\n",
    "client = OpenAI(api_key=os.environ.get(\"OPENAI_API_KEY\"))\n",
    "\n",
    "\n",
    "system_prompt = \"\"\"\n",
    "You are a language model tasked with generating a few funny stories about aliens at an intergallactic nightclub called andromeda's rim.\n",
    "\n",
    "Generate funny annecdotes about interactions between these aliens, and the other attendees. \n",
    "\n",
    "Your stories should be relatively short, and you should \n",
    "\n",
    "The nightclub is based off of Berghain in berlin. The attendees of this club have a similar vibe to the attendees of berghain, they may just be fans of the music, they could also just want to party, or they may be there to have sex with other kinky aliens. \n",
    "\n",
    "You will be provided with a list of aliens in the following form, do not make any mention of the aliens trying to get into the club. Assume that all of the aliens have already been let in: \n",
    "\n",
    "{\n",
    "    \"let_in\": [Whether or not the alien has malicious intent when going to this club], \n",
    "    \"image_url\": [A filepath to an image of the alien, do not pay any attention to this field],\n",
    "    \"description\": [A phyical description of the alien], \n",
    "    \"name\": [The aliens name], \n",
    "    \"species\": [The aliens species], \n",
    "    \"items\": [A list of items the alien has on them ],\n",
    "    \"demeanor\": [A description of the aliens demeanour], \n",
    "    \"alien_id\": [A unique identifier for the alien, do not pay any attention to this field]\n",
    "}\"\"\""
   ]
  },
  {
   "cell_type": "code",
   "execution_count": null,
   "metadata": {},
   "outputs": [
    {
     "name": "stdout",
     "output_type": "stream",
     "text": [
      "**Story 1: The Lost Whip**\n",
      "\n",
      "Malkithis, the anxious Xilithian, had his shiny, metallic whip clutched tightly in his numerous hands as he entered Andromeda's Rim. As he stepped onto the dance floor, he saw Belthorax, the towering Floraexa, elegantly twisting and twirling in the dim flashing lights, looking like a cosmic deity. \n",
      "\n",
      "Feeling bold for merely a second, Malkithis called out, laughing nervously, \"Hey, could you show me how to move like that?\" \n",
      "\n",
      "Belthorax stopped mid-twirl, eyeing Malkithis's whip. “Oh, are you inviting some playful dance-battle?”\n",
      "\n",
      "Before Malkithis could answer, he accidentally flipped his whip, and it uncoiled like a spring, end-over-end, hitting Belthorax squarely in the backside.\n",
      "\n",
      "Belthorax turned, eyes wide, “Whoa! Looks like you've just unleashed the ‘dance of discomfort!’”\n",
      "\n",
      "Everyone in the vicinity burst out laughing, while Malkithis, crimson (or as red as a shimmering blue alien could get), babbled an apology. The night ended with a joint dance on the floor, where Malkithis learned that a little embarrassment can create the best dance moves.\n",
      "\n",
      "---\n",
      "\n",
      "**Story 2: The Unusual Encounter**\n",
      "\n",
      "In one corner of Andromeda's Rim, Lomaraen, the always-smiling Xeltharian with twinkling eyes, was enjoying the beats when Malkithis scurried nervously past, spilling a small vial of luminescent liquid everywhere. \n",
      "\n",
      "“Oh no! The party juice!” Malkithis squealed, eyes darting everywhere in panic. \n",
      "\n",
      "Lomaraen eyed the glowing puddle, then grinned mischievously. “Don’t worry, it looks like the club’s becoming more vibrant! Let’s add some flair!” \n",
      "\n",
      "Lomaraen promptly whipped out their pulsating crystal pendant, tossing it into the glowing mess. The pendant exploded in a cloud of disco light, scattering brilliantly across the dance floor, turning the incident into a glowing light show!\n",
      "\n",
      "Malkithis stood awestruck. “You’re a genius! This could be a new dance trend!”\n",
      "\n",
      "Lomaraen chuckled, “And here I thought I was just good at cleaning up spills! The last rave I attended was a total disaster too… we ended up creating a new line of bio-luminescent floor paint!”\n",
      "\n",
      "Everyone around erupted in laughter, and soon enough, everyone was slip-sliding in the glowing mess, declaring it the start of a new dance move: \"The Spilly Shuffle.\"\n",
      "\n",
      "---\n",
      "\n",
      "**Story 3: The Glow-Up Challenge**\n",
      "\n",
      "Belthorax floated through the club, flaunting the glow face paint smudged on its luminous skin. Malkithis, still jittery, watched from a distance as an impressive crowd gathered around Belthorax, enchanted by his unique look. \n",
      "\n",
      "Suddenly, Malkithis felt a rush of courage. Determined not to be left in the shimmering dust, they approached Belthorax. “I can do that too!” \n",
      "\n",
      "Belthorax raised an eyebrow. “You mean you want a ‘glow-up’ challenge?” \n",
      "\n",
      "With an affirmation and a flash of nervous energy, Malkithis smeared luminescent powder all over themselves. But as they turned to show off their glow, the concoction backfired. The powder mixed with sweat caught the club’s lights, reflecting rainbows in a detour around the dance floor – causing a mini “party eruption” as attendees were momentarily blinded.\n",
      "\n",
      "Everyone laughed, including Belthorax! “You’ve created an ocular explosion! Who knew you were a glow wizard?”\n",
      "\n",
      "Malkithis beamed, “Well, I like to keep things interesting!”\n",
      "\n",
      "The night carried on with the “Glow Explosion” as the newest dance fad, setting a record for the most colorful mishaps in Andromeda's Rim!\n"
     ]
    }
   ],
   "source": [
    "aliens = [str(a) for a in aliens]\n",
    "\n",
    "\n",
    "messages = client.chat.completions.create(\n",
    "    messages=[\n",
    "        {\n",
    "            \"role\": \"system\",\n",
    "            \"content\": system_prompt,\n",
    "        },\n",
    "        {\"role\": \"user\", \"content\": str(aliens)},\n",
    "    ],\n",
    "    model=\"gpt-4o-mini\",\n",
    ")\n",
    "print(messages.choices[0].message.content)"
   ]
  }
 ],
 "metadata": {
  "kernelspec": {
   "display_name": ".venv",
   "language": "python",
   "name": "python3"
  },
  "language_info": {
   "codemirror_mode": {
    "name": "ipython",
    "version": 3
   },
   "file_extension": ".py",
   "mimetype": "text/x-python",
   "name": "python",
   "nbconvert_exporter": "python",
   "pygments_lexer": "ipython3",
   "version": "3.10.15"
  }
 },
 "nbformat": 4,
 "nbformat_minor": 2
}
